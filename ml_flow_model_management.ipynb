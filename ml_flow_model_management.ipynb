{
 "cells": [
  {
   "cell_type": "code",
   "execution_count": 1,
   "id": "1d9a5744",
   "metadata": {},
   "outputs": [],
   "source": [
    "import numpy as np\n",
    "from sklearn.datasets import make_classification\n",
    "from sklearn.model_selection import train_test_split\n",
    "from sklearn.linear_model import LogisticRegression\n",
    "from sklearn.ensemble import RandomForestClassifier\n",
    "from xgboost import XGBClassifier\n",
    "from sklearn.metrics import classification_report\n",
    "import warnings\n",
    "warnings.filterwarnings('ignore')"
   ]
  },
  {
   "cell_type": "code",
   "execution_count": 2,
   "id": "be056aa7",
   "metadata": {},
   "outputs": [
    {
     "data": {
      "text/plain": [
       "(array([0, 1]), array([900, 100], dtype=int64))"
      ]
     },
     "execution_count": 2,
     "metadata": {},
     "output_type": "execute_result"
    }
   ],
   "source": [
    "# Step 1: Create an imbalanced binary classification dataset\n",
    "X, y = make_classification(n_samples=1000, n_features=10, n_informative=2, n_redundant=8, \n",
    "                           weights=[0.9, 0.1], flip_y=0, random_state=42)\n",
    "\n",
    "np.unique(y, return_counts=True)"
   ]
  },
  {
   "cell_type": "code",
   "execution_count": 3,
   "id": "c7420471",
   "metadata": {},
   "outputs": [],
   "source": [
    "# Split the dataset into training and testing sets\n",
    "X_train, X_test, y_train, y_test = train_test_split(X, y, test_size=0.3, stratify=y, random_state=42)"
   ]
  },
  {
   "cell_type": "code",
   "execution_count": 20,
   "id": "71ce55c3",
   "metadata": {},
   "outputs": [
    {
     "name": "stdout",
     "output_type": "stream",
     "text": [
      "(array([0, 1]), array([618, 618], dtype=int64))\n"
     ]
    }
   ],
   "source": [
    "from imblearn.combine import SMOTETomek\n",
    "smt = SMOTETomek(random_state=42)\n",
    "X_train_res, y_train_res = smt.fit_resample(X_train, y_train)\n",
    "print(np.unique(y_train_res, return_counts=True))"
   ]
  },
  {
   "cell_type": "code",
   "execution_count": 21,
   "id": "56c65fd6",
   "metadata": {},
   "outputs": [
    {
     "name": "stderr",
     "output_type": "stream",
     "text": [
      "2025/08/11 22:32:39 WARNING mlflow.models.model: `artifact_path` is deprecated. Please use `name` instead.\n",
      "2025/08/11 22:32:40 WARNING mlflow.models.model: Model logged without a signature and input example. Please set `input_example` parameter when logging the model to auto infer the model signature.\n",
      "2025/08/11 22:32:40 WARNING mlflow.models.model: `artifact_path` is deprecated. Please use `name` instead.\n"
     ]
    },
    {
     "name": "stdout",
     "output_type": "stream",
     "text": [
      "🏃 View run Logistic Regression at: http://localhost:5000/#/experiments/3/runs/51d17bba829944de972f5ef0bb6d5b99\n",
      "🧪 View experiment at: http://localhost:5000/#/experiments/3\n"
     ]
    },
    {
     "name": "stderr",
     "output_type": "stream",
     "text": [
      "2025/08/11 22:32:40 WARNING mlflow.models.model: Model logged without a signature and input example. Please set `input_example` parameter when logging the model to auto infer the model signature.\n",
      "2025/08/11 22:32:40 WARNING mlflow.models.model: `artifact_path` is deprecated. Please use `name` instead.\n"
     ]
    },
    {
     "name": "stdout",
     "output_type": "stream",
     "text": [
      "🏃 View run Random Forest at: http://localhost:5000/#/experiments/3/runs/aebdef871b32427d8b651a01b46a6c60\n",
      "🧪 View experiment at: http://localhost:5000/#/experiments/3\n"
     ]
    },
    {
     "name": "stderr",
     "output_type": "stream",
     "text": [
      "2025/08/11 22:32:40 WARNING mlflow.models.model: Model logged without a signature and input example. Please set `input_example` parameter when logging the model to auto infer the model signature.\n",
      "2025/08/11 22:32:40 WARNING mlflow.models.model: `artifact_path` is deprecated. Please use `name` instead.\n"
     ]
    },
    {
     "name": "stdout",
     "output_type": "stream",
     "text": [
      "🏃 View run XGBClassifier at: http://localhost:5000/#/experiments/3/runs/82a623c08470404481660179be1cbdec\n",
      "🧪 View experiment at: http://localhost:5000/#/experiments/3\n"
     ]
    },
    {
     "name": "stderr",
     "output_type": "stream",
     "text": [
      "2025/08/11 22:32:41 WARNING mlflow.models.model: Model logged without a signature and input example. Please set `input_example` parameter when logging the model to auto infer the model signature.\n"
     ]
    },
    {
     "name": "stdout",
     "output_type": "stream",
     "text": [
      "🏃 View run XGBClassifier With SMOTE at: http://localhost:5000/#/experiments/3/runs/1ad97453b0764dc7a4ada7adde3d651c\n",
      "🧪 View experiment at: http://localhost:5000/#/experiments/3\n"
     ]
    }
   ],
   "source": [
    "# --- Train & log runs ---\n",
    "import mlflow, sklearn\n",
    "import mlflow.sklearn, mlflow.xgboost\n",
    "\n",
    "mlflow.set_tracking_uri(\"http://localhost:5000\")\n",
    "mlflow.set_experiment(\"Anomaly Detection\")\n",
    "\n",
    "reports = []\n",
    "runs_info = {}  # store run_id per model for later\n",
    "\n",
    "for name, params, model, train_set, test_set in models:\n",
    "    Xtr, ytr = train_set\n",
    "    Xte, yte = test_set\n",
    "    model.set_params(**params)\n",
    "    model.fit(Xtr, ytr)\n",
    "    y_pred = model.predict(Xte)\n",
    "    report = classification_report(yte, y_pred, output_dict=True)\n",
    "    reports.append(report)\n",
    "\n",
    "    with mlflow.start_run(run_name=name) as run:\n",
    "        mlflow.log_params(params)\n",
    "        mlflow.log_metrics({\n",
    "            \"accuracy\": report[\"accuracy\"],\n",
    "            \"recall_class_1\": report[\"1\"][\"recall\"],\n",
    "            \"recall_class_0\": report[\"0\"][\"recall\"],\n",
    "            \"f1_score_macro\": report[\"macro avg\"][\"f1-score\"],\n",
    "        })\n",
    "\n",
    "        # Faster: avoid env inference\n",
    "        reqs = [\n",
    "            f\"mlflow=={mlflow.__version__}\",\n",
    "            f\"scikit-learn=={sklearn.__version__}\",\n",
    "            \"cloudpickle\"\n",
    "        ]\n",
    "\n",
    "        if \"XGB\" in name:\n",
    "            mlflow.xgboost.log_model(model, artifact_path=\"model\",\n",
    "                                     pip_requirements=reqs,\n",
    "                                     registered_model_name=None)\n",
    "        else:\n",
    "            mlflow.sklearn.log_model(model, artifact_path=\"model\",\n",
    "                                     pip_requirements=reqs,\n",
    "                                     registered_model_name=None)\n",
    "\n",
    "        runs_info[name] = run.info.run_id\n"
   ]
  },
  {
   "cell_type": "code",
   "execution_count": 22,
   "id": "ffd0a225",
   "metadata": {},
   "outputs": [
    {
     "name": "stderr",
     "output_type": "stream",
     "text": [
      "Registered model 'XGB-Smote' already exists. Creating a new version of this model...\n",
      "2025/08/11 22:33:01 WARNING mlflow.tracking._model_registry.fluent: Run with id 1ad97453b0764dc7a4ada7adde3d651c has no artifacts at artifact path 'model', registering model based on models:/m-b11eacf16faa4a79bcc202a3f84982fe instead\n",
      "2025/08/11 22:33:01 INFO mlflow.store.model_registry.abstract_store: Waiting up to 300 seconds for model version to finish creation. Model name: XGB-Smote, version 1\n"
     ]
    },
    {
     "name": "stdout",
     "output_type": "stream",
     "text": [
      "Registered: XGB-Smote version: 1\n"
     ]
    },
    {
     "name": "stderr",
     "output_type": "stream",
     "text": [
      "Created version '1' of model 'XGB-Smote'.\n"
     ]
    }
   ],
   "source": [
    "from mlflow.tracking import MlflowClient\n",
    "client = MlflowClient()\n",
    "\n",
    "smote_run_id = runs_info[\"XGBClassifier With SMOTE\"]\n",
    "model_name = \"XGB-Smote\"\n",
    "model_uri = f\"runs:/{smote_run_id}/model\"  # must match artifact_path\n",
    "\n",
    "mv = mlflow.register_model(model_uri=model_uri, name=model_name)\n",
    "version = mv.version\n",
    "print(\"Registered:\", model_name, \"version:\", version)"
   ]
  },
  {
   "cell_type": "code",
   "execution_count": 23,
   "id": "ce919ca8",
   "metadata": {},
   "outputs": [
    {
     "name": "stderr",
     "output_type": "stream",
     "text": [
      "Successfully registered model 'anomaly-detection-prod'.\n",
      "Copied version '1' of model 'XGB-Smote' to version '1' of model 'anomaly-detection-prod'.\n"
     ]
    }
   ],
   "source": [
    "# Set 'challenger' on that version\n",
    "client.set_registered_model_alias(name=model_name, alias=\"challenger\", version=version)\n",
    "\n",
    "# Copy to production model name (or just use stages instead)\n",
    "prod_name = \"anomaly-detection-prod\"\n",
    "copied = client.copy_model_version(src_model_uri=f\"models:/{model_name}@challenger\",\n",
    "                                   dst_name=prod_name)\n",
    "prod_version = copied.version\n",
    "\n",
    "# Give the prod version an alias 'champion'\n",
    "client.set_registered_model_alias(name=prod_name, alias=\"champion\", version=prod_version)\n"
   ]
  },
  {
   "cell_type": "code",
   "execution_count": 24,
   "id": "138767f6",
   "metadata": {},
   "outputs": [
    {
     "name": "stdout",
     "output_type": "stream",
     "text": [
      "[0 0 0 0]\n"
     ]
    }
   ],
   "source": [
    "# --- Load by alias and score ---\n",
    "loaded = mlflow.xgboost.load_model(f\"models:/{prod_name}@champion\")\n",
    "print(loaded.predict(X_test)[:4])\n"
   ]
  }
 ],
 "metadata": {
  "kernelspec": {
   "display_name": "Python 3",
   "language": "python",
   "name": "python3"
  },
  "language_info": {
   "codemirror_mode": {
    "name": "ipython",
    "version": 3
   },
   "file_extension": ".py",
   "mimetype": "text/x-python",
   "name": "python",
   "nbconvert_exporter": "python",
   "pygments_lexer": "ipython3",
   "version": "3.12.4"
  }
 },
 "nbformat": 4,
 "nbformat_minor": 5
}
